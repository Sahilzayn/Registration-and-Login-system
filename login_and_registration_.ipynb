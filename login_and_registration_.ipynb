{
  "nbformat": 4,
  "nbformat_minor": 0,
  "metadata": {
    "colab": {
      "name": "login and registration .ipynb",
      "provenance": [],
      "authorship_tag": "ABX9TyPyQ7W6lqwkfDn42l3y300U",
      "include_colab_link": true
    },
    "kernelspec": {
      "name": "python3",
      "display_name": "Python 3"
    },
    "language_info": {
      "name": "python"
    }
  },
  "cells": [
    {
      "cell_type": "markdown",
      "metadata": {
        "id": "view-in-github",
        "colab_type": "text"
      },
      "source": [
        "<a href=\"https://colab.research.google.com/github/Sahilzayn/Registration-and-Login-system/blob/main/login_and_registration_.ipynb\" target=\"_parent\"><img src=\"https://colab.research.google.com/assets/colab-badge.svg\" alt=\"Open In Colab\"/></a>"
      ]
    },
    {
      "cell_type": "code",
      "metadata": {
        "id": "7N-dj-XBWnDd",
        "colab": {
          "base_uri": "https://localhost:8080/"
        },
        "outputId": "bfcc8c2b-3d02-4bed-bf87-af2d94b53534"
      },
      "source": [
        "import os,sys\n",
        "def signup():\n",
        "  userlen=16\n",
        "  temp=input(\"Create user\")\n",
        "  l=len(temp)\n",
        "  temp=temp+((userlen-l)*'')\n",
        "  temp=temp.encode()\n",
        "  with open('Login.dat','ab+')as f:\n",
        "    size=os.path.getsize('Logindoc.dat')\n",
        "    n=int(size/28)\n",
        "    position=0\n",
        "    for i in range(n):\n",
        "      f.seek(position)\n",
        "      str=f.read(16)\n",
        "      if temp in str:\n",
        "        print(\"User name exists, try another one\")\n",
        "        return\n",
        "      position=position+28\n",
        "  username=temp\n",
        "  print(\"Create Password\")\n",
        "  print(\"Must have minimum one special character,one digit, one uppercase & one lowercase character\")\n",
        "  u=0\n",
        "  s=0\n",
        "  a=input()\n",
        "  for i in range(0,len(a)):\n",
        "    if(a[i].isupper()):\n",
        "       u=u+1\n",
        "    elif(a[i]=='@' or a[i]=='$'):\n",
        "        s=s+1\n",
        "  try:\n",
        "    if(u!=0 and s!=0 and len(a)<=6):\n",
        "        Password=a\n",
        "        Password=Password.encode()\n",
        "    else:\n",
        "      raise Exception(\"Password too weak\")\n",
        "  except Exception as e:\n",
        "      print(\"Must have minimum one special character,one digit, one uppercase & one lowercase character\")\n",
        "      exit()\n",
        "  with open('Logindocdat''a+b')as f:\n",
        "      f.write(Username+Password)\n",
        "\n",
        "#def Login()\n",
        "  userlen=16\n",
        "  user=input(\"Login Username\")\n",
        "  l=len(user)\n",
        "  user=user+((userlen-l)*'')\n",
        "  user=user.encode()\n",
        "  Password=input(\"Password\")\n",
        "  Password=Password.encode()\n",
        "  userinfo=user+Password\n",
        "  size=os.path.getsize('Logindoc.dat')\n",
        "  n=int(Size/28)\n",
        "  with open('Logindoc.dat','rb')as f:\n",
        "    position=0\n",
        "    for i in range(n):\n",
        "      f.seek(position)\n",
        "      str.f.read(28)\n",
        "      if userinfo in str:\n",
        "         print('Logged in')\n",
        "         exit()\n",
        "      position+=28\n",
        "  print(\"Username and Password does not match\")\n",
        "  return\n",
        "\n",
        "while(1):\n",
        "  print('1.Signup\\n2.Login\\nExit')\n",
        "  print('Enter username:')\n",
        "  c=int(input())\n",
        "  if(c==1):\n",
        "    signup()\n",
        "  elif(c==2):\n",
        "    login()\n",
        "  elif(c==3):\n",
        "    exit()\n",
        "  else:\n",
        "    print('Invalid username')\n",
        "\n",
        "\n",
        "\n",
        "    "
      ],
      "execution_count": null,
      "outputs": [
        {
          "output_type": "stream",
          "name": "stdout",
          "text": [
            "1.Signup\n",
            "2.Login\n",
            "Exit\n",
            "Enter username:\n"
          ]
        }
      ]
    },
    {
      "cell_type": "code",
      "source": [
        ""
      ],
      "metadata": {
        "id": "yk4-WT_YniBq"
      },
      "execution_count": null,
      "outputs": []
    },
    {
      "cell_type": "code",
      "metadata": {
        "id": "HVyl5aHpXR0C"
      },
      "source": [
        ""
      ],
      "execution_count": null,
      "outputs": []
    }
  ]
}